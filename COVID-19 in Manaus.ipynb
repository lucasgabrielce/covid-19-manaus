{
 "cells": [
  {
   "cell_type": "markdown",
   "id": "0dd5186a",
   "metadata": {},
   "source": [
    "# COVID-19\n",
    "\n",
    "### Covid-19 striked the entire world in 2020. In Brazil, the disease killed almost 400 thousand¹ people since the begning of the pandemic in the country (March 2021). Manaus, the capital of Amazonas State, and the most crowded city in the North area of the country, suffered terribly with the pandemic, due to its tropical climate which creates a favorable environment for many other seasonal diseases such as yellow fever, chicungunha, dengue fever, malaria and tuberculosis. The facts becomes even more drastic when we consider that Amazonas has the highest mortality rate for tuberculosis in Brazil.\n",
    "\n",
    "\n",
    "¹https://www.google.com/search?client=ubuntu&hs=SRm&channel=fs&sxsrf=ALeKk00qA_TGdHJdFlDEOZusdfFZ1oj2DQ:1619293222545&q=deaths+brazil+covid+19&spell=1&sa=X&ved=2ahUKEwjEjcSq0ZfwAhUxC9QKHRibA4EQBSgAegQIARA3&biw=1232&bih=653"
   ]
  },
  {
   "cell_type": "markdown",
   "id": "855f6c61",
   "metadata": {},
   "source": [
    "### Manaus quickly became famous in the entire world due to its situation:"
   ]
  },
  {
   "cell_type": "markdown",
   "id": "961af825",
   "metadata": {},
   "source": [
    "<img src=\"./images/Screenshot from 2021-04-24 15-33-12.png\">"
   ]
  },
  {
   "cell_type": "markdown",
   "id": "6e028365",
   "metadata": {},
   "source": [
    "At https://www1.folha.uol.com.br/internacional/en/scienceandhealth/2020/12/in-manaus-the-incidence-of-covid-19-is-76-according-to-a-study-rate-in-sp-is-29.shtml"
   ]
  },
  {
   "cell_type": "markdown",
   "id": "225e35db",
   "metadata": {},
   "source": [
    "<img src=\"./images/Screenshot from 2021-04-24 15-33-53.png\">"
   ]
  },
  {
   "cell_type": "markdown",
   "id": "6d6b9cba",
   "metadata": {},
   "source": [
    "At https://www.aljazeera.com/news/2021/1/25/doctors-fear-manaus-covid-crisis-could-spread-across-brazil"
   ]
  },
  {
   "cell_type": "markdown",
   "id": "869022c3",
   "metadata": {},
   "source": [
    "<img src=\"./images/Screenshot from 2021-04-24 15-34-03.png\">"
   ]
  },
  {
   "cell_type": "markdown",
   "id": "811708f1",
   "metadata": {},
   "source": [
    "At https://www.dw.com/en/how-a-coronavirus-variant-is-overrunning-brazil/a-56776626"
   ]
  },
  {
   "cell_type": "markdown",
   "id": "dd65afe8",
   "metadata": {},
   "source": [
    "<img src=\"./images/Screenshot from 2021-04-24 15-34-45.png\">"
   ]
  },
  {
   "cell_type": "markdown",
   "id": "c64e78e5",
   "metadata": {},
   "source": [
    "At https://www.theguardian.com/science/audio/2021/feb/02/covid-19-what-can-we-learn-from-manaus-podcast"
   ]
  },
  {
   "cell_type": "markdown",
   "id": "b6e17ac8",
   "metadata": {},
   "source": [
    "### Coming from Amazonas, and studing pulmonary diseases for the past 3 years¹, it is saddly to see your people suffering and where the situation is going. Due to that, I'm going to analyze some data from COVID-19 in Brazil and reflect about their impacts from someone who is coming from the \"world capital of COVID-19\"¹.\n",
    "\n",
    "¹(in portuguese, PT-BR) https://www.bbc.com/portuguese/brasil-55681527"
   ]
  },
  {
   "cell_type": "markdown",
   "id": "88996826",
   "metadata": {},
   "source": [
    "# Dataset"
   ]
  },
  {
   "cell_type": "markdown",
   "id": "77226a02",
   "metadata": {},
   "source": [
    "As data we are going to use public data from municipal and state Health Departments of Brazil. The dataset¹ was gathered from Brasil.IO², a volunteer association that aims to make Brazilian data of public interest accessible³.\n",
    "\n",
    "To analyze it, we are going to use the commons Data Science libraries: pandas, numpy and matplotlib.\n",
    "\n",
    "¹(in portuguese, PT-BR): https://brasil.io/dataset/covid19/boletim/\n",
    "<br>\n",
    "²(in portuguese, PT-BR): https://brasil.io/home/\n",
    "<br>\n",
    "³(in portuguese, PT-BR): https://brasil.io/manifesto/"
   ]
  },
  {
   "cell_type": "code",
   "execution_count": 1,
   "id": "472810de",
   "metadata": {},
   "outputs": [],
   "source": [
    "import pandas as pd\n",
    "import numpy as np\n",
    "import matplotlib.pyplot as plt"
   ]
  },
  {
   "cell_type": "code",
   "execution_count": 2,
   "id": "dde2eef5",
   "metadata": {},
   "outputs": [],
   "source": [
    "df = pd.read_csv('./data/caso.csv')"
   ]
  },
  {
   "cell_type": "code",
   "execution_count": 3,
   "id": "9d8e126a",
   "metadata": {},
   "outputs": [
    {
     "data": {
      "text/html": [
       "<div>\n",
       "<style scoped>\n",
       "    .dataframe tbody tr th:only-of-type {\n",
       "        vertical-align: middle;\n",
       "    }\n",
       "\n",
       "    .dataframe tbody tr th {\n",
       "        vertical-align: top;\n",
       "    }\n",
       "\n",
       "    .dataframe thead th {\n",
       "        text-align: right;\n",
       "    }\n",
       "</style>\n",
       "<table border=\"1\" class=\"dataframe\">\n",
       "  <thead>\n",
       "    <tr style=\"text-align: right;\">\n",
       "      <th></th>\n",
       "      <th>date</th>\n",
       "      <th>state</th>\n",
       "      <th>city</th>\n",
       "      <th>place_type</th>\n",
       "      <th>confirmed</th>\n",
       "      <th>deaths</th>\n",
       "      <th>order_for_place</th>\n",
       "      <th>is_last</th>\n",
       "      <th>estimated_population_2019</th>\n",
       "      <th>estimated_population</th>\n",
       "      <th>city_ibge_code</th>\n",
       "      <th>confirmed_per_100k_inhabitants</th>\n",
       "      <th>death_rate</th>\n",
       "    </tr>\n",
       "  </thead>\n",
       "  <tbody>\n",
       "    <tr>\n",
       "      <th>0</th>\n",
       "      <td>2021-04-23</td>\n",
       "      <td>AP</td>\n",
       "      <td>NaN</td>\n",
       "      <td>state</td>\n",
       "      <td>104109</td>\n",
       "      <td>1502</td>\n",
       "      <td>396</td>\n",
       "      <td>True</td>\n",
       "      <td>845731.0</td>\n",
       "      <td>861773.0</td>\n",
       "      <td>16.0</td>\n",
       "      <td>12080.79158</td>\n",
       "      <td>0.0144</td>\n",
       "    </tr>\n",
       "    <tr>\n",
       "      <th>1</th>\n",
       "      <td>2021-04-22</td>\n",
       "      <td>AP</td>\n",
       "      <td>NaN</td>\n",
       "      <td>state</td>\n",
       "      <td>103960</td>\n",
       "      <td>1497</td>\n",
       "      <td>395</td>\n",
       "      <td>False</td>\n",
       "      <td>845731.0</td>\n",
       "      <td>861773.0</td>\n",
       "      <td>16.0</td>\n",
       "      <td>12063.50164</td>\n",
       "      <td>0.0144</td>\n",
       "    </tr>\n",
       "    <tr>\n",
       "      <th>2</th>\n",
       "      <td>2021-04-21</td>\n",
       "      <td>AP</td>\n",
       "      <td>NaN</td>\n",
       "      <td>state</td>\n",
       "      <td>103733</td>\n",
       "      <td>1488</td>\n",
       "      <td>394</td>\n",
       "      <td>False</td>\n",
       "      <td>845731.0</td>\n",
       "      <td>861773.0</td>\n",
       "      <td>16.0</td>\n",
       "      <td>12037.16060</td>\n",
       "      <td>0.0143</td>\n",
       "    </tr>\n",
       "    <tr>\n",
       "      <th>3</th>\n",
       "      <td>2021-04-20</td>\n",
       "      <td>AP</td>\n",
       "      <td>NaN</td>\n",
       "      <td>state</td>\n",
       "      <td>103620</td>\n",
       "      <td>1483</td>\n",
       "      <td>393</td>\n",
       "      <td>False</td>\n",
       "      <td>845731.0</td>\n",
       "      <td>861773.0</td>\n",
       "      <td>16.0</td>\n",
       "      <td>12024.04810</td>\n",
       "      <td>0.0143</td>\n",
       "    </tr>\n",
       "    <tr>\n",
       "      <th>4</th>\n",
       "      <td>2021-04-19</td>\n",
       "      <td>AP</td>\n",
       "      <td>NaN</td>\n",
       "      <td>state</td>\n",
       "      <td>103374</td>\n",
       "      <td>1477</td>\n",
       "      <td>392</td>\n",
       "      <td>False</td>\n",
       "      <td>845731.0</td>\n",
       "      <td>861773.0</td>\n",
       "      <td>16.0</td>\n",
       "      <td>11995.50230</td>\n",
       "      <td>0.0143</td>\n",
       "    </tr>\n",
       "  </tbody>\n",
       "</table>\n",
       "</div>"
      ],
      "text/plain": [
       "         date state city place_type  confirmed  deaths  order_for_place  \\\n",
       "0  2021-04-23    AP  NaN      state     104109    1502              396   \n",
       "1  2021-04-22    AP  NaN      state     103960    1497              395   \n",
       "2  2021-04-21    AP  NaN      state     103733    1488              394   \n",
       "3  2021-04-20    AP  NaN      state     103620    1483              393   \n",
       "4  2021-04-19    AP  NaN      state     103374    1477              392   \n",
       "\n",
       "   is_last  estimated_population_2019  estimated_population  city_ibge_code  \\\n",
       "0     True                   845731.0              861773.0            16.0   \n",
       "1    False                   845731.0              861773.0            16.0   \n",
       "2    False                   845731.0              861773.0            16.0   \n",
       "3    False                   845731.0              861773.0            16.0   \n",
       "4    False                   845731.0              861773.0            16.0   \n",
       "\n",
       "   confirmed_per_100k_inhabitants  death_rate  \n",
       "0                     12080.79158      0.0144  \n",
       "1                     12063.50164      0.0144  \n",
       "2                     12037.16060      0.0143  \n",
       "3                     12024.04810      0.0143  \n",
       "4                     11995.50230      0.0143  "
      ]
     },
     "execution_count": 3,
     "metadata": {},
     "output_type": "execute_result"
    }
   ],
   "source": [
    "df.head()"
   ]
  },
  {
   "cell_type": "code",
   "execution_count": 4,
   "id": "733df47b",
   "metadata": {},
   "outputs": [
    {
     "data": {
      "text/plain": [
       "['date',\n",
       " 'state',\n",
       " 'city',\n",
       " 'place_type',\n",
       " 'confirmed',\n",
       " 'deaths',\n",
       " 'order_for_place',\n",
       " 'is_last',\n",
       " 'estimated_population_2019',\n",
       " 'estimated_population',\n",
       " 'city_ibge_code',\n",
       " 'confirmed_per_100k_inhabitants',\n",
       " 'death_rate']"
      ]
     },
     "execution_count": 4,
     "metadata": {},
     "output_type": "execute_result"
    }
   ],
   "source": [
    "df.columns.tolist()"
   ]
  },
  {
   "cell_type": "markdown",
   "id": "8183239b",
   "metadata": {},
   "source": [
    "Here we can see the columns of the dataset. And with '.head()' we can notice one thing very common with public data: in the 'city' column, the first rows have a *NaN* entry, meaning that no cities were inputed for these occurrences. It can have many reasons for that, however the importance here is to manage to filter the data to find the information about Manaus.\n",
    "\n",
    "Maybe filtering with the condition of our 'state' column is 'Amazonas' and 'city' column is 'Manaus' can help us."
   ]
  },
  {
   "cell_type": "code",
   "execution_count": 5,
   "id": "a0756922",
   "metadata": {},
   "outputs": [
    {
     "data": {
      "text/html": [
       "<div>\n",
       "<style scoped>\n",
       "    .dataframe tbody tr th:only-of-type {\n",
       "        vertical-align: middle;\n",
       "    }\n",
       "\n",
       "    .dataframe tbody tr th {\n",
       "        vertical-align: top;\n",
       "    }\n",
       "\n",
       "    .dataframe thead th {\n",
       "        text-align: right;\n",
       "    }\n",
       "</style>\n",
       "<table border=\"1\" class=\"dataframe\">\n",
       "  <thead>\n",
       "    <tr style=\"text-align: right;\">\n",
       "      <th></th>\n",
       "      <th>date</th>\n",
       "      <th>state</th>\n",
       "      <th>city</th>\n",
       "      <th>place_type</th>\n",
       "      <th>confirmed</th>\n",
       "      <th>deaths</th>\n",
       "      <th>order_for_place</th>\n",
       "      <th>is_last</th>\n",
       "      <th>estimated_population_2019</th>\n",
       "      <th>estimated_population</th>\n",
       "      <th>city_ibge_code</th>\n",
       "      <th>confirmed_per_100k_inhabitants</th>\n",
       "      <th>death_rate</th>\n",
       "    </tr>\n",
       "  </thead>\n",
       "  <tbody>\n",
       "    <tr>\n",
       "      <th>27981</th>\n",
       "      <td>2021-04-16</td>\n",
       "      <td>AM</td>\n",
       "      <td>Manaus</td>\n",
       "      <td>city</td>\n",
       "      <td>165781</td>\n",
       "      <td>8612</td>\n",
       "      <td>395</td>\n",
       "      <td>True</td>\n",
       "      <td>2182763.0</td>\n",
       "      <td>2219580.0</td>\n",
       "      <td>1302603.0</td>\n",
       "      <td>7469.02567</td>\n",
       "      <td>0.0519</td>\n",
       "    </tr>\n",
       "    <tr>\n",
       "      <th>27982</th>\n",
       "      <td>2021-04-15</td>\n",
       "      <td>AM</td>\n",
       "      <td>Manaus</td>\n",
       "      <td>city</td>\n",
       "      <td>165531</td>\n",
       "      <td>8602</td>\n",
       "      <td>394</td>\n",
       "      <td>False</td>\n",
       "      <td>2182763.0</td>\n",
       "      <td>2219580.0</td>\n",
       "      <td>1302603.0</td>\n",
       "      <td>7457.76228</td>\n",
       "      <td>0.0520</td>\n",
       "    </tr>\n",
       "    <tr>\n",
       "      <th>27983</th>\n",
       "      <td>2021-04-14</td>\n",
       "      <td>AM</td>\n",
       "      <td>Manaus</td>\n",
       "      <td>city</td>\n",
       "      <td>165209</td>\n",
       "      <td>8591</td>\n",
       "      <td>393</td>\n",
       "      <td>False</td>\n",
       "      <td>2182763.0</td>\n",
       "      <td>2219580.0</td>\n",
       "      <td>1302603.0</td>\n",
       "      <td>7443.25503</td>\n",
       "      <td>0.0520</td>\n",
       "    </tr>\n",
       "    <tr>\n",
       "      <th>27984</th>\n",
       "      <td>2021-04-13</td>\n",
       "      <td>AM</td>\n",
       "      <td>Manaus</td>\n",
       "      <td>city</td>\n",
       "      <td>164825</td>\n",
       "      <td>8574</td>\n",
       "      <td>392</td>\n",
       "      <td>False</td>\n",
       "      <td>2182763.0</td>\n",
       "      <td>2219580.0</td>\n",
       "      <td>1302603.0</td>\n",
       "      <td>7425.95446</td>\n",
       "      <td>0.0520</td>\n",
       "    </tr>\n",
       "    <tr>\n",
       "      <th>27985</th>\n",
       "      <td>2021-04-12</td>\n",
       "      <td>AM</td>\n",
       "      <td>Manaus</td>\n",
       "      <td>city</td>\n",
       "      <td>164415</td>\n",
       "      <td>8561</td>\n",
       "      <td>391</td>\n",
       "      <td>False</td>\n",
       "      <td>2182763.0</td>\n",
       "      <td>2219580.0</td>\n",
       "      <td>1302603.0</td>\n",
       "      <td>7407.48250</td>\n",
       "      <td>0.0521</td>\n",
       "    </tr>\n",
       "  </tbody>\n",
       "</table>\n",
       "</div>"
      ],
      "text/plain": [
       "             date state    city place_type  confirmed  deaths  \\\n",
       "27981  2021-04-16    AM  Manaus       city     165781    8612   \n",
       "27982  2021-04-15    AM  Manaus       city     165531    8602   \n",
       "27983  2021-04-14    AM  Manaus       city     165209    8591   \n",
       "27984  2021-04-13    AM  Manaus       city     164825    8574   \n",
       "27985  2021-04-12    AM  Manaus       city     164415    8561   \n",
       "\n",
       "       order_for_place  is_last  estimated_population_2019  \\\n",
       "27981              395     True                  2182763.0   \n",
       "27982              394    False                  2182763.0   \n",
       "27983              393    False                  2182763.0   \n",
       "27984              392    False                  2182763.0   \n",
       "27985              391    False                  2182763.0   \n",
       "\n",
       "       estimated_population  city_ibge_code  confirmed_per_100k_inhabitants  \\\n",
       "27981             2219580.0       1302603.0                      7469.02567   \n",
       "27982             2219580.0       1302603.0                      7457.76228   \n",
       "27983             2219580.0       1302603.0                      7443.25503   \n",
       "27984             2219580.0       1302603.0                      7425.95446   \n",
       "27985             2219580.0       1302603.0                      7407.48250   \n",
       "\n",
       "       death_rate  \n",
       "27981      0.0519  \n",
       "27982      0.0520  \n",
       "27983      0.0520  \n",
       "27984      0.0520  \n",
       "27985      0.0521  "
      ]
     },
     "execution_count": 5,
     "metadata": {},
     "output_type": "execute_result"
    }
   ],
   "source": [
    "df[(df['state'] == 'AM') & (df['city'] == 'Manaus')].head()"
   ]
  },
  {
   "cell_type": "markdown",
   "id": "7ff614f9",
   "metadata": {},
   "source": [
    "But what if we missed some entries for Manaus as before? Maybe some entries for Manaus indeed had 'AM' for 'state' but had *NaN* for 'city'. Let's see how many cities Amazonas have."
   ]
  },
  {
   "cell_type": "code",
   "execution_count": 6,
   "id": "e7349d45",
   "metadata": {},
   "outputs": [
    {
     "data": {
      "text/plain": [
       "array([1300029., 1300060., 1300086., 1300102., 1300144., 1300201.,\n",
       "       1300300., 1300409., 1300508., 1300607., 1300631., 1300680.,\n",
       "       1300706., 1300805., 1300839., 1300904., 1301001., 1301100.,\n",
       "       1301159., 1301209., 1301308., 1301407., 1301506., 1301605.,\n",
       "       1301654., 1301704., 1301803., 1301852., 1301902., 1301951.,\n",
       "       1302009., 1302108., 1302207., 1302306., 1302405., 1302504.,\n",
       "       1302553., 1302603., 1302702., 1302801., 1302900., 1303007.,\n",
       "       1303106., 1303205., 1303304., 1303403., 1303502., 1303536.,\n",
       "       1303569., 1303601., 1303700., 1304005., 1303809., 1303908.,\n",
       "       1303957., 1304062., 1304104., 1304203., 1304237., 1304260.,\n",
       "       1304302., 1304401.])"
      ]
     },
     "execution_count": 6,
     "metadata": {},
     "output_type": "execute_result"
    }
   ],
   "source": [
    "couldbe_manaus = df[(df['state'] == 'AM') & (df['place_type'] == 'city')]\n",
    "couldbe_manaus['city_ibge_code'].unique()"
   ]
  },
  {
   "cell_type": "markdown",
   "id": "ab6220d1",
   "metadata": {},
   "source": [
    "Hmmm, a lot.\n",
    "\n",
    "To overcome this we can use a very important alternative path: common knowledge. As a Amazonas-born I know that Manaus is not only the capital of Amazonas, but also is the biggest city of the entire State, with more a more than 2 million population; no other city in Amazonas has the same population, not even close."
   ]
  },
  {
   "cell_type": "code",
   "execution_count": 7,
   "id": "89296ff0",
   "metadata": {},
   "outputs": [
    {
     "data": {
      "text/plain": [
       "array([   2251.,    7814.,    9230.,   11736.,   13283.,   13690.,\n",
       "         13886.,   13956.,   14352.,   15106.,   15807.,   16130.,\n",
       "         16220.,   16937.,   17005.,   17015.,   18261.,   18897.,\n",
       "         19522.,   19626.,   19928.,   20093.,   20393.,   20398.,\n",
       "         21243.,   21443.,   21477.,   22359.,   23585.,   25865.,\n",
       "         26046.,   27638.,   28508.,   29168.,   30436.,   30846.,\n",
       "         32483.,   33049.,   34106.,   34635.,   35700.,   37193.,\n",
       "         38026.,   38348.,   40073.,   40290.,   41748.,   43935.,\n",
       "         46303.,   46882.,   49011.,   56144.,   56583.,   59547.,\n",
       "         65040.,   67182.,   85910.,   98502.,  102701.,  115363.,\n",
       "       2219580.])"
      ]
     },
     "execution_count": 7,
     "metadata": {},
     "output_type": "execute_result"
    }
   ],
   "source": [
    "np.sort(couldbe_manaus['estimated_population'].unique())"
   ]
  },
  {
   "cell_type": "markdown",
   "id": "2d95dae1",
   "metadata": {},
   "source": [
    "In the sorted list of populations for the cities, in the bottom we have a city with more than 2M people!\n",
    "\n",
    "So let's use 'AM' in 'state' column, 'city' in 'place_type' column and 2000000 in the 'estimated_population_2019'."
   ]
  },
  {
   "cell_type": "code",
   "execution_count": 8,
   "id": "72cf258f",
   "metadata": {},
   "outputs": [
    {
     "data": {
      "text/html": [
       "<div>\n",
       "<style scoped>\n",
       "    .dataframe tbody tr th:only-of-type {\n",
       "        vertical-align: middle;\n",
       "    }\n",
       "\n",
       "    .dataframe tbody tr th {\n",
       "        vertical-align: top;\n",
       "    }\n",
       "\n",
       "    .dataframe thead th {\n",
       "        text-align: right;\n",
       "    }\n",
       "</style>\n",
       "<table border=\"1\" class=\"dataframe\">\n",
       "  <thead>\n",
       "    <tr style=\"text-align: right;\">\n",
       "      <th></th>\n",
       "      <th>date</th>\n",
       "      <th>state</th>\n",
       "      <th>city</th>\n",
       "      <th>place_type</th>\n",
       "      <th>confirmed</th>\n",
       "      <th>deaths</th>\n",
       "      <th>order_for_place</th>\n",
       "      <th>is_last</th>\n",
       "      <th>estimated_population_2019</th>\n",
       "      <th>estimated_population</th>\n",
       "      <th>city_ibge_code</th>\n",
       "      <th>confirmed_per_100k_inhabitants</th>\n",
       "      <th>death_rate</th>\n",
       "    </tr>\n",
       "  </thead>\n",
       "  <tbody>\n",
       "    <tr>\n",
       "      <th>27981</th>\n",
       "      <td>2021-04-16</td>\n",
       "      <td>AM</td>\n",
       "      <td>Manaus</td>\n",
       "      <td>city</td>\n",
       "      <td>165781</td>\n",
       "      <td>8612</td>\n",
       "      <td>395</td>\n",
       "      <td>True</td>\n",
       "      <td>2182763.0</td>\n",
       "      <td>2219580.0</td>\n",
       "      <td>1302603.0</td>\n",
       "      <td>7469.02567</td>\n",
       "      <td>0.0519</td>\n",
       "    </tr>\n",
       "    <tr>\n",
       "      <th>27982</th>\n",
       "      <td>2021-04-15</td>\n",
       "      <td>AM</td>\n",
       "      <td>Manaus</td>\n",
       "      <td>city</td>\n",
       "      <td>165531</td>\n",
       "      <td>8602</td>\n",
       "      <td>394</td>\n",
       "      <td>False</td>\n",
       "      <td>2182763.0</td>\n",
       "      <td>2219580.0</td>\n",
       "      <td>1302603.0</td>\n",
       "      <td>7457.76228</td>\n",
       "      <td>0.0520</td>\n",
       "    </tr>\n",
       "    <tr>\n",
       "      <th>27983</th>\n",
       "      <td>2021-04-14</td>\n",
       "      <td>AM</td>\n",
       "      <td>Manaus</td>\n",
       "      <td>city</td>\n",
       "      <td>165209</td>\n",
       "      <td>8591</td>\n",
       "      <td>393</td>\n",
       "      <td>False</td>\n",
       "      <td>2182763.0</td>\n",
       "      <td>2219580.0</td>\n",
       "      <td>1302603.0</td>\n",
       "      <td>7443.25503</td>\n",
       "      <td>0.0520</td>\n",
       "    </tr>\n",
       "    <tr>\n",
       "      <th>27984</th>\n",
       "      <td>2021-04-13</td>\n",
       "      <td>AM</td>\n",
       "      <td>Manaus</td>\n",
       "      <td>city</td>\n",
       "      <td>164825</td>\n",
       "      <td>8574</td>\n",
       "      <td>392</td>\n",
       "      <td>False</td>\n",
       "      <td>2182763.0</td>\n",
       "      <td>2219580.0</td>\n",
       "      <td>1302603.0</td>\n",
       "      <td>7425.95446</td>\n",
       "      <td>0.0520</td>\n",
       "    </tr>\n",
       "    <tr>\n",
       "      <th>27985</th>\n",
       "      <td>2021-04-12</td>\n",
       "      <td>AM</td>\n",
       "      <td>Manaus</td>\n",
       "      <td>city</td>\n",
       "      <td>164415</td>\n",
       "      <td>8561</td>\n",
       "      <td>391</td>\n",
       "      <td>False</td>\n",
       "      <td>2182763.0</td>\n",
       "      <td>2219580.0</td>\n",
       "      <td>1302603.0</td>\n",
       "      <td>7407.48250</td>\n",
       "      <td>0.0521</td>\n",
       "    </tr>\n",
       "  </tbody>\n",
       "</table>\n",
       "</div>"
      ],
      "text/plain": [
       "             date state    city place_type  confirmed  deaths  \\\n",
       "27981  2021-04-16    AM  Manaus       city     165781    8612   \n",
       "27982  2021-04-15    AM  Manaus       city     165531    8602   \n",
       "27983  2021-04-14    AM  Manaus       city     165209    8591   \n",
       "27984  2021-04-13    AM  Manaus       city     164825    8574   \n",
       "27985  2021-04-12    AM  Manaus       city     164415    8561   \n",
       "\n",
       "       order_for_place  is_last  estimated_population_2019  \\\n",
       "27981              395     True                  2182763.0   \n",
       "27982              394    False                  2182763.0   \n",
       "27983              393    False                  2182763.0   \n",
       "27984              392    False                  2182763.0   \n",
       "27985              391    False                  2182763.0   \n",
       "\n",
       "       estimated_population  city_ibge_code  confirmed_per_100k_inhabitants  \\\n",
       "27981             2219580.0       1302603.0                      7469.02567   \n",
       "27982             2219580.0       1302603.0                      7457.76228   \n",
       "27983             2219580.0       1302603.0                      7443.25503   \n",
       "27984             2219580.0       1302603.0                      7425.95446   \n",
       "27985             2219580.0       1302603.0                      7407.48250   \n",
       "\n",
       "       death_rate  \n",
       "27981      0.0519  \n",
       "27982      0.0520  \n",
       "27983      0.0520  \n",
       "27984      0.0520  \n",
       "27985      0.0521  "
      ]
     },
     "execution_count": 8,
     "metadata": {},
     "output_type": "execute_result"
    }
   ],
   "source": [
    "df[(df['state'] == 'AM') & (df['place_type'] == 'city') & (df['estimated_population_2019'] > 2000000)].head(5)"
   ]
  },
  {
   "cell_type": "code",
   "execution_count": 9,
   "id": "8478af22",
   "metadata": {},
   "outputs": [
    {
     "data": {
      "text/html": [
       "<div>\n",
       "<style scoped>\n",
       "    .dataframe tbody tr th:only-of-type {\n",
       "        vertical-align: middle;\n",
       "    }\n",
       "\n",
       "    .dataframe tbody tr th {\n",
       "        vertical-align: top;\n",
       "    }\n",
       "\n",
       "    .dataframe thead th {\n",
       "        text-align: right;\n",
       "    }\n",
       "</style>\n",
       "<table border=\"1\" class=\"dataframe\">\n",
       "  <thead>\n",
       "    <tr style=\"text-align: right;\">\n",
       "      <th></th>\n",
       "      <th>date</th>\n",
       "      <th>state</th>\n",
       "      <th>city</th>\n",
       "      <th>place_type</th>\n",
       "      <th>confirmed</th>\n",
       "      <th>deaths</th>\n",
       "      <th>order_for_place</th>\n",
       "      <th>is_last</th>\n",
       "      <th>estimated_population_2019</th>\n",
       "      <th>estimated_population</th>\n",
       "      <th>city_ibge_code</th>\n",
       "      <th>confirmed_per_100k_inhabitants</th>\n",
       "      <th>death_rate</th>\n",
       "    </tr>\n",
       "  </thead>\n",
       "  <tbody>\n",
       "    <tr>\n",
       "      <th>27981</th>\n",
       "      <td>2021-04-16</td>\n",
       "      <td>AM</td>\n",
       "      <td>Manaus</td>\n",
       "      <td>city</td>\n",
       "      <td>165781</td>\n",
       "      <td>8612</td>\n",
       "      <td>395</td>\n",
       "      <td>True</td>\n",
       "      <td>2182763.0</td>\n",
       "      <td>2219580.0</td>\n",
       "      <td>1302603.0</td>\n",
       "      <td>7469.02567</td>\n",
       "      <td>0.0519</td>\n",
       "    </tr>\n",
       "    <tr>\n",
       "      <th>27982</th>\n",
       "      <td>2021-04-15</td>\n",
       "      <td>AM</td>\n",
       "      <td>Manaus</td>\n",
       "      <td>city</td>\n",
       "      <td>165531</td>\n",
       "      <td>8602</td>\n",
       "      <td>394</td>\n",
       "      <td>False</td>\n",
       "      <td>2182763.0</td>\n",
       "      <td>2219580.0</td>\n",
       "      <td>1302603.0</td>\n",
       "      <td>7457.76228</td>\n",
       "      <td>0.0520</td>\n",
       "    </tr>\n",
       "    <tr>\n",
       "      <th>27983</th>\n",
       "      <td>2021-04-14</td>\n",
       "      <td>AM</td>\n",
       "      <td>Manaus</td>\n",
       "      <td>city</td>\n",
       "      <td>165209</td>\n",
       "      <td>8591</td>\n",
       "      <td>393</td>\n",
       "      <td>False</td>\n",
       "      <td>2182763.0</td>\n",
       "      <td>2219580.0</td>\n",
       "      <td>1302603.0</td>\n",
       "      <td>7443.25503</td>\n",
       "      <td>0.0520</td>\n",
       "    </tr>\n",
       "    <tr>\n",
       "      <th>27984</th>\n",
       "      <td>2021-04-13</td>\n",
       "      <td>AM</td>\n",
       "      <td>Manaus</td>\n",
       "      <td>city</td>\n",
       "      <td>164825</td>\n",
       "      <td>8574</td>\n",
       "      <td>392</td>\n",
       "      <td>False</td>\n",
       "      <td>2182763.0</td>\n",
       "      <td>2219580.0</td>\n",
       "      <td>1302603.0</td>\n",
       "      <td>7425.95446</td>\n",
       "      <td>0.0520</td>\n",
       "    </tr>\n",
       "    <tr>\n",
       "      <th>27985</th>\n",
       "      <td>2021-04-12</td>\n",
       "      <td>AM</td>\n",
       "      <td>Manaus</td>\n",
       "      <td>city</td>\n",
       "      <td>164415</td>\n",
       "      <td>8561</td>\n",
       "      <td>391</td>\n",
       "      <td>False</td>\n",
       "      <td>2182763.0</td>\n",
       "      <td>2219580.0</td>\n",
       "      <td>1302603.0</td>\n",
       "      <td>7407.48250</td>\n",
       "      <td>0.0521</td>\n",
       "    </tr>\n",
       "  </tbody>\n",
       "</table>\n",
       "</div>"
      ],
      "text/plain": [
       "             date state    city place_type  confirmed  deaths  \\\n",
       "27981  2021-04-16    AM  Manaus       city     165781    8612   \n",
       "27982  2021-04-15    AM  Manaus       city     165531    8602   \n",
       "27983  2021-04-14    AM  Manaus       city     165209    8591   \n",
       "27984  2021-04-13    AM  Manaus       city     164825    8574   \n",
       "27985  2021-04-12    AM  Manaus       city     164415    8561   \n",
       "\n",
       "       order_for_place  is_last  estimated_population_2019  \\\n",
       "27981              395     True                  2182763.0   \n",
       "27982              394    False                  2182763.0   \n",
       "27983              393    False                  2182763.0   \n",
       "27984              392    False                  2182763.0   \n",
       "27985              391    False                  2182763.0   \n",
       "\n",
       "       estimated_population  city_ibge_code  confirmed_per_100k_inhabitants  \\\n",
       "27981             2219580.0       1302603.0                      7469.02567   \n",
       "27982             2219580.0       1302603.0                      7457.76228   \n",
       "27983             2219580.0       1302603.0                      7443.25503   \n",
       "27984             2219580.0       1302603.0                      7425.95446   \n",
       "27985             2219580.0       1302603.0                      7407.48250   \n",
       "\n",
       "       death_rate  \n",
       "27981      0.0519  \n",
       "27982      0.0520  \n",
       "27983      0.0520  \n",
       "27984      0.0520  \n",
       "27985      0.0521  "
      ]
     },
     "execution_count": 9,
     "metadata": {},
     "output_type": "execute_result"
    }
   ],
   "source": [
    "manaus = df[(df['state'] == 'AM') & (df['place_type'] == 'city') & (df['estimated_population_2019'] > 2000000)]\n",
    "manaus.head()"
   ]
  },
  {
   "cell_type": "markdown",
   "id": "7db6f29a",
   "metadata": {},
   "source": [
    "We can still lose data with that? Of course! However, with that filtering we can minimize this occurrence.\n",
    "\n",
    "Let's delete our temporary variables to not compromise our RAM memory."
   ]
  },
  {
   "cell_type": "code",
   "execution_count": 10,
   "id": "b48ee1d0",
   "metadata": {},
   "outputs": [],
   "source": [
    "del df, couldbe_manaus"
   ]
  },
  {
   "cell_type": "markdown",
   "id": "64e71230",
   "metadata": {},
   "source": [
    "As we can see from bellow, we have 395 entries, wich meens we have 395 days of registers, as each line represents a day in our dataset. The time range is from March 03 (2020) to April 06 (2021). That's very significant as the pandemic rised in Manaus by that time. In fact, many jobs in Manaus started to be home office a week before that. I remember my formal job putting us in home office by March 06, some days before the first case of COVID-19 be confirmed in the city."
   ]
  },
  {
   "cell_type": "code",
   "execution_count": 11,
   "id": "24d94675",
   "metadata": {},
   "outputs": [
    {
     "name": "stdout",
     "output_type": "stream",
     "text": [
      "<class 'pandas.core.frame.DataFrame'>\n",
      "Int64Index: 395 entries, 27981 to 28375\n",
      "Data columns (total 13 columns):\n",
      " #   Column                          Non-Null Count  Dtype  \n",
      "---  ------                          --------------  -----  \n",
      " 0   date                            395 non-null    object \n",
      " 1   state                           395 non-null    object \n",
      " 2   city                            395 non-null    object \n",
      " 3   place_type                      395 non-null    object \n",
      " 4   confirmed                       395 non-null    int64  \n",
      " 5   deaths                          395 non-null    int64  \n",
      " 6   order_for_place                 395 non-null    int64  \n",
      " 7   is_last                         395 non-null    bool   \n",
      " 8   estimated_population_2019       395 non-null    float64\n",
      " 9   estimated_population            395 non-null    float64\n",
      " 10  city_ibge_code                  395 non-null    float64\n",
      " 11  confirmed_per_100k_inhabitants  395 non-null    float64\n",
      " 12  death_rate                      395 non-null    float64\n",
      "dtypes: bool(1), float64(5), int64(3), object(4)\n",
      "memory usage: 40.5+ KB\n"
     ]
    }
   ],
   "source": [
    "manaus.info()"
   ]
  },
  {
   "cell_type": "code",
   "execution_count": 12,
   "id": "258bd369",
   "metadata": {},
   "outputs": [
    {
     "data": {
      "text/plain": [
       "('2021-04-16', '2020-03-13')"
      ]
     },
     "execution_count": 12,
     "metadata": {},
     "output_type": "execute_result"
    }
   ],
   "source": [
    "time_range = manaus['date'].unique()\n",
    "time_range[0], time_range[-1]"
   ]
  },
  {
   "cell_type": "code",
   "execution_count": 13,
   "id": "73d399c2",
   "metadata": {},
   "outputs": [
    {
     "data": {
      "text/plain": [
       "date                              2020-03-13\n",
       "state                                     AM\n",
       "city                                  Manaus\n",
       "place_type                              city\n",
       "confirmed                                  2\n",
       "deaths                                     0\n",
       "order_for_place                            1\n",
       "is_last                                False\n",
       "estimated_population_2019          2182763.0\n",
       "estimated_population               2219580.0\n",
       "city_ibge_code                     1302603.0\n",
       "confirmed_per_100k_inhabitants       0.09011\n",
       "death_rate                               0.0\n",
       "Name: 28375, dtype: object"
      ]
     },
     "execution_count": 13,
     "metadata": {},
     "output_type": "execute_result"
    }
   ],
   "source": [
    "manaus.iloc[-1]"
   ]
  },
  {
   "cell_type": "markdown",
   "id": "bfed9c81",
   "metadata": {},
   "source": [
    "We need to work on the 'deaths' and 'date' columns to do some visualization of that period."
   ]
  },
  {
   "cell_type": "markdown",
   "id": "cae9a9a0",
   "metadata": {},
   "source": [
    "Our entries in dataset, from top to bottom, are from the the newest input to oldest, so we use '[::-1]' to reveser the order."
   ]
  },
  {
   "cell_type": "code",
   "execution_count": 14,
   "id": "04d97343",
   "metadata": {},
   "outputs": [],
   "source": [
    "days_arr = manaus['date'].tolist()[::-1]"
   ]
  },
  {
   "cell_type": "code",
   "execution_count": 15,
   "id": "1ea87375",
   "metadata": {},
   "outputs": [
    {
     "data": {
      "text/plain": [
       "[8612,\n",
       " 8602,\n",
       " 8591,\n",
       " 8574,\n",
       " 8561,\n",
       " 8550,\n",
       " 8543,\n",
       " 8534,\n",
       " 8520,\n",
       " 8510,\n",
       " 8482,\n",
       " 8470,\n",
       " 8444,\n",
       " 8439,\n",
       " 8432,\n",
       " 8424,\n",
       " 8420,\n",
       " 8414,\n",
       " 8407,\n",
       " 8396,\n",
       " 8389,\n",
       " 8383,\n",
       " 8373,\n",
       " 8356,\n",
       " 8348,\n",
       " 8342,\n",
       " 8329,\n",
       " 8318,\n",
       " 8298,\n",
       " 8278,\n",
       " 8258,\n",
       " 8231,\n",
       " 8199,\n",
       " 8174,\n",
       " 8157,\n",
       " 8133,\n",
       " 8106,\n",
       " 8077,\n",
       " 8041,\n",
       " 8009,\n",
       " 7991,\n",
       " 7977,\n",
       " 7970,\n",
       " 7933,\n",
       " 7868,\n",
       " 7810,\n",
       " 7757,\n",
       " 7693,\n",
       " 7676,\n",
       " 7644,\n",
       " 7605,\n",
       " 7534,\n",
       " 7479,\n",
       " 7452,\n",
       " 7407,\n",
       " 7370,\n",
       " 7333,\n",
       " 7280,\n",
       " 7193,\n",
       " 7137,\n",
       " 7050,\n",
       " 6952,\n",
       " 6920,\n",
       " 6872,\n",
       " 6764,\n",
       " 6623,\n",
       " 6484,\n",
       " 6347,\n",
       " 6263,\n",
       " 6208,\n",
       " 6119,\n",
       " 6046,\n",
       " 5923,\n",
       " 5809,\n",
       " 5693,\n",
       " 5575,\n",
       " 5490,\n",
       " 5307,\n",
       " 5231,\n",
       " 5152,\n",
       " 5043,\n",
       " 4911,\n",
       " 4834,\n",
       " 4746,\n",
       " 4617,\n",
       " 4502,\n",
       " 4371,\n",
       " 4257,\n",
       " 4157,\n",
       " 4072,\n",
       " 4031,\n",
       " 3975,\n",
       " 3892,\n",
       " 3856,\n",
       " 3800,\n",
       " 3758,\n",
       " 3716,\n",
       " 3692,\n",
       " 3650,\n",
       " 3589,\n",
       " 3552,\n",
       " 3478,\n",
       " 3444,\n",
       " 3427,\n",
       " 3412,\n",
       " 3388,\n",
       " 3380,\n",
       " 3361,\n",
       " 3346,\n",
       " 3328,\n",
       " 3318,\n",
       " 3309,\n",
       " 3297,\n",
       " 3289,\n",
       " 3272,\n",
       " 3258,\n",
       " 3247,\n",
       " 3243,\n",
       " 3235,\n",
       " 3224,\n",
       " 3213,\n",
       " 3205,\n",
       " 3201,\n",
       " 3194,\n",
       " 3187,\n",
       " 3185,\n",
       " 3181,\n",
       " 3174,\n",
       " 3170,\n",
       " 3167,\n",
       " 3163,\n",
       " 3152,\n",
       " 3147,\n",
       " 3140,\n",
       " 3137,\n",
       " 3128,\n",
       " 3117,\n",
       " 3117,\n",
       " 3112,\n",
       " 3105,\n",
       " 3101,\n",
       " 3096,\n",
       " 3073,\n",
       " 3071,\n",
       " 3054,\n",
       " 3042,\n",
       " 3034,\n",
       " 3026,\n",
       " 3015,\n",
       " 3010,\n",
       " 3007,\n",
       " 2989,\n",
       " 2987,\n",
       " 2984,\n",
       " 2974,\n",
       " 2973,\n",
       " 2952,\n",
       " 2951,\n",
       " 2949,\n",
       " 2935,\n",
       " 2934,\n",
       " 2926,\n",
       " 2913,\n",
       " 2906,\n",
       " 2902,\n",
       " 2895,\n",
       " 2889,\n",
       " 2879,\n",
       " 2873,\n",
       " 2853,\n",
       " 2842,\n",
       " 2834,\n",
       " 2825,\n",
       " 2818,\n",
       " 2818,\n",
       " 2796,\n",
       " 2780,\n",
       " 2768,\n",
       " 2759,\n",
       " 2753,\n",
       " 2750,\n",
       " 2738,\n",
       " 2725,\n",
       " 2706,\n",
       " 2694,\n",
       " 2691,\n",
       " 2685,\n",
       " 2683,\n",
       " 2673,\n",
       " 2668,\n",
       " 2662,\n",
       " 2654,\n",
       " 2649,\n",
       " 2642,\n",
       " 2639,\n",
       " 2633,\n",
       " 2631,\n",
       " 2516,\n",
       " 2512,\n",
       " 2510,\n",
       " 2509,\n",
       " 2507,\n",
       " 2487,\n",
       " 2481,\n",
       " 2476,\n",
       " 2462,\n",
       " 2462,\n",
       " 2460,\n",
       " 2460,\n",
       " 2456,\n",
       " 2443,\n",
       " 2440,\n",
       " 2435,\n",
       " 2431,\n",
       " 2428,\n",
       " 2427,\n",
       " 2424,\n",
       " 2419,\n",
       " 2415,\n",
       " 2411,\n",
       " 2409,\n",
       " 2409,\n",
       " 2408,\n",
       " 2404,\n",
       " 2401,\n",
       " 2399,\n",
       " 2251,\n",
       " 2248,\n",
       " 2246,\n",
       " 2244,\n",
       " 2243,\n",
       " 2232,\n",
       " 2219,\n",
       " 2209,\n",
       " 2198,\n",
       " 2195,\n",
       " 2190,\n",
       " 2189,\n",
       " 2188,\n",
       " 2181,\n",
       " 2176,\n",
       " 2159,\n",
       " 2140,\n",
       " 2124,\n",
       " 2123,\n",
       " 2107,\n",
       " 2096,\n",
       " 2087,\n",
       " 2070,\n",
       " 2051,\n",
       " 2050,\n",
       " 2043,\n",
       " 2040,\n",
       " 2036,\n",
       " 2027,\n",
       " 2021,\n",
       " 2019,\n",
       " 2016,\n",
       " 2013,\n",
       " 2003,\n",
       " 2001,\n",
       " 1995,\n",
       " 1988,\n",
       " 1987,\n",
       " 1985,\n",
       " 1978,\n",
       " 1977,\n",
       " 1974,\n",
       " 1964,\n",
       " 1957,\n",
       " 1963,\n",
       " 1949,\n",
       " 1947,\n",
       " 1928,\n",
       " 1922,\n",
       " 1914,\n",
       " 1909,\n",
       " 1905,\n",
       " 1891,\n",
       " 1884,\n",
       " 1870,\n",
       " 1860,\n",
       " 1853,\n",
       " 1847,\n",
       " 1845,\n",
       " 1843,\n",
       " 1826,\n",
       " 1810,\n",
       " 1804,\n",
       " 1790,\n",
       " 1771,\n",
       " 1770,\n",
       " 1768,\n",
       " 1747,\n",
       " 1743,\n",
       " 1735,\n",
       " 1727,\n",
       " 1719,\n",
       " 1711,\n",
       " 1706,\n",
       " 1685,\n",
       " 1678,\n",
       " 1660,\n",
       " 1645,\n",
       " 1620,\n",
       " 1614,\n",
       " 1596,\n",
       " 1576,\n",
       " 1560,\n",
       " 1534,\n",
       " 1501,\n",
       " 1475,\n",
       " 1466,\n",
       " 1462,\n",
       " 1432,\n",
       " 1417,\n",
       " 1407,\n",
       " 1390,\n",
       " 1371,\n",
       " 1366,\n",
       " 1366,\n",
       " 1349,\n",
       " 1314,\n",
       " 1272,\n",
       " 1248,\n",
       " 1190,\n",
       " 1182,\n",
       " 1176,\n",
       " 1127,\n",
       " 1094,\n",
       " 1057,\n",
       " 999,\n",
       " 951,\n",
       " 949,\n",
       " 920,\n",
       " 888,\n",
       " 809,\n",
       " 757,\n",
       " 726,\n",
       " 691,\n",
       " 680,\n",
       " 660,\n",
       " 604,\n",
       " 563,\n",
       " 532,\n",
       " 459,\n",
       " 418,\n",
       " 396,\n",
       " 368,\n",
       " 357,\n",
       " 312,\n",
       " 288,\n",
       " 274,\n",
       " 256,\n",
       " 246,\n",
       " 233,\n",
       " 207,\n",
       " 193,\n",
       " 172,\n",
       " 163,\n",
       " 156,\n",
       " 155,\n",
       " 134,\n",
       " 127,\n",
       " 107,\n",
       " 92,\n",
       " 81,\n",
       " 60,\n",
       " 51,\n",
       " 45,\n",
       " 42,\n",
       " 33,\n",
       " 25,\n",
       " 19,\n",
       " 15,\n",
       " 11,\n",
       " 9,\n",
       " 5,\n",
       " 2,\n",
       " 2,\n",
       " 2,\n",
       " 1,\n",
       " 0,\n",
       " 0,\n",
       " 0,\n",
       " 0,\n",
       " 0,\n",
       " 0,\n",
       " 0,\n",
       " 0,\n",
       " 0,\n",
       " 0,\n",
       " 0,\n",
       " 0,\n",
       " 0]"
      ]
     },
     "execution_count": 15,
     "metadata": {},
     "output_type": "execute_result"
    }
   ],
   "source": [
    "manaus['deaths'].tolist()"
   ]
  },
  {
   "cell_type": "markdown",
   "id": "fa95cad9",
   "metadata": {},
   "source": [
    "The 'deaths' column have a different aspect: it sums the last input with the newest. So here we can simply sort the array to have the right order. We also need to pay attention on how the deaths are counted in our dataset. Each occurrence, when inputed in the dataset, sums the occurrence of the current day with the occurrence of the previous day, wich means that to find out how many deaths a day had we need to subtract its value with the previous cell in the dataset."
   ]
  },
  {
   "cell_type": "code",
   "execution_count": 16,
   "id": "758d4504",
   "metadata": {},
   "outputs": [],
   "source": [
    "deaths_arr = np.sort(manaus['deaths'].tolist())\n",
    "deaths = [x-deaths_arr[indice-1] if indice > 0 else x for indice, x in enumerate(deaths_arr)]\n",
    "deaths = np.array(deaths)"
   ]
  },
  {
   "cell_type": "code",
   "execution_count": 17,
   "id": "c7beec60",
   "metadata": {},
   "outputs": [],
   "source": [
    "days = [x for x in days_arr]"
   ]
  },
  {
   "cell_type": "code",
   "execution_count": 18,
   "id": "e2b159be",
   "metadata": {},
   "outputs": [
    {
     "data": {
      "text/plain": [
       "<BarContainer object of 395 artists>"
      ]
     },
     "execution_count": 18,
     "metadata": {},
     "output_type": "execute_result"
    },
    {
     "data": {
      "image/png": "[encoded data removed]",
      "text/plain": [
       "<Figure size 1296x360 with 1 Axes>"
      ]
     },
     "metadata": {
      "needs_background": "light"
     },
     "output_type": "display_data"
    }
   ],
   "source": [
    "f, ax = plt.subplots(figsize=(18,5))\n",
    "ax.set_xticklabels([])\n",
    "plt.xlabel(f'Time span: from {time_range[-1]} to {time_range[0]}')\n",
    "plt.ylabel(f'Number of deaths')\n",
    "plt.bar(days, deaths, color='red')"
   ]
  },
  {
   "cell_type": "markdown",
   "id": "1776f58a",
   "metadata": {},
   "source": [
    "Let's do the same thing for the 'confirmed' column."
   ]
  },
  {
   "cell_type": "code",
   "execution_count": 19,
   "id": "c1e9864c",
   "metadata": {},
   "outputs": [],
   "source": [
    "confirmed_arr = np.sort(manaus['confirmed'].tolist())\n",
    "confirmed = [x-confirmed_arr[indice-1] if indice > 0 else x for indice, x in enumerate(confirmed_arr)]"
   ]
  },
  {
   "cell_type": "code",
   "execution_count": 20,
   "id": "43dfe463",
   "metadata": {},
   "outputs": [
    {
     "data": {
      "text/plain": [
       "<BarContainer object of 395 artists>"
      ]
     },
     "execution_count": 20,
     "metadata": {},
     "output_type": "execute_result"
    },
    {
     "data": {
      "image/png": "[encoded data removed]",
      "text/plain": [
       "<Figure size 1296x360 with 1 Axes>"
      ]
     },
     "metadata": {
      "needs_background": "light"
     },
     "output_type": "display_data"
    }
   ],
   "source": [
    "f, ax = plt.subplots(figsize=(18,5))\n",
    "ax.set_xticklabels([])\n",
    "plt.xlabel(f'Time span: from {time_range[-1]} to {time_range[0]}')\n",
    "plt.ylabel(f'Number of confirmed cases')\n",
    "plt.bar(days, confirmed, color='orange')"
   ]
  },
  {
   "cell_type": "markdown",
   "id": "7ae0676d",
   "metadata": {},
   "source": [
    "From the plot of deaths, we can see the begning of everything and current situtation of COVID-19 in Manaus. It's really hard to see the reality that the data shows to us, but at the same time is very important. The spikes represent represent deaths of friends e relatives of mine and many others.\n",
    "\n",
    "When COVID-19 arrived in Manaus, we saw many statements on masks, the importance of social isolation, but was not enough to control the pandemic and quickly things seemed to be out of control. The first wave is clearly can be easily seen. The confirmed cases graph shows us that hard reality with more numbers (range in y-axis), as we naturally had much more people getting sick than dying.\n",
    "\n",
    "Two more things call for more detailed analysis:\n",
    "\n",
    "(i) By midyear (2020) we see two big spikes on the graph of deaths, that came from a relatively low deaths rate.\n",
    "\n",
    "(ii) In both graphs, by the end of December and beginning of January, came the second wave. Much more severe and tragic than the first. In fact, that happned due to lack of caution from the population, that broke social distancing to gather on Christmas and New Year's Eve¹ ² ³.\n",
    "\n",
    "¹https://agencia.fapesp.br/second-wave-of-covid-19-in-manaus-rekindles-debate-on-herd-immunity/35011/<br>\n",
    "²https://www.youtube.com/watch?v=wZmqZjU8BJ4 <br>\n",
    "³https://www.abc.net.au/news/2021-03-01/inside-manaus-brazil-coronavirus-crisis-second-wave/13183706"
   ]
  },
  {
   "cell_type": "markdown",
   "id": "26a79926",
   "metadata": {},
   "source": [
    "Now we are going to explore a little bit the behaviour of our data by adding 5 consectuvies days in a row, for both deaths and confirmed cases. "
   ]
  },
  {
   "cell_type": "code",
   "execution_count": 21,
   "id": "dc2677e3",
   "metadata": {},
   "outputs": [],
   "source": [
    "deaths_temp = np.array_split(deaths, 395//5)\n",
    "deaths_5cd = np.sum(deaths_temp, axis=1)\n",
    "\n",
    "#Alternative to split and sum:\n",
    "#np.add.reduceat(deaths, range(0, len(deaths), 5))¹\n",
    "#\n",
    "#¹https://stackoverflow.com/questions/29391815/sum-slices-of-consecutive-values-in-a-numpy-array\n",
    "#I personally don't like that implementation as 'array_split' and 'sum' is a much straightfoward approach\n",
    "#and easier to understand, but I put here with the link just for the sake of curiosity"
   ]
  },
  {
   "cell_type": "code",
   "execution_count": 22,
   "id": "539591c7",
   "metadata": {},
   "outputs": [
    {
     "name": "stderr",
     "output_type": "stream",
     "text": [
      "<ipython-input-22-89477b2e1603>:3: UserWarning: FixedFormatter should only be used together with FixedLocator\n",
      "  ax.set_xticklabels(days[::5], rotation = 90)\n"
     ]
    },
    {
     "data": {
      "text/plain": [
       "<BarContainer object of 79 artists>"
      ]
     },
     "execution_count": 22,
     "metadata": {},
     "output_type": "execute_result"
    },
    {
     "data": {
      "image/png": "[encoded data removed]",
      "text/plain": [
       "<Figure size 1296x360 with 1 Axes>"
      ]
     },
     "metadata": {
      "needs_background": "light"
     },
     "output_type": "display_data"
    }
   ],
   "source": [
    "f, ax = plt.subplots(figsize=(18,5))\n",
    "#We can now have labels for the x-axis as we have less data to be displayed\n",
    "ax.set_xticklabels(days[::5], rotation = 90)\n",
    "plt.xlabel(f'Time span: from {time_range[-1]} to {time_range[0]}')\n",
    "plt.ylabel(f'Number of deaths')\n",
    "plt.bar(days[::5], deaths_5cd, color='red')"
   ]
  },
  {
   "cell_type": "code",
   "execution_count": 23,
   "id": "50d2e944",
   "metadata": {
    "scrolled": false
   },
   "outputs": [
    {
     "name": "stderr",
     "output_type": "stream",
     "text": [
      "<ipython-input-23-974f771d2395>:5: UserWarning: FixedFormatter should only be used together with FixedLocator\n",
      "  ax.set_xticklabels(days[::5], rotation = 90)\n"
     ]
    },
    {
     "data": {
      "text/plain": [
       "<BarContainer object of 79 artists>"
      ]
     },
     "execution_count": 23,
     "metadata": {},
     "output_type": "execute_result"
    },
    {
     "data": {
      "image/png": "[encoded data removed]",
      "text/plain": [
       "<Figure size 1296x360 with 1 Axes>"
      ]
     },
     "metadata": {
      "needs_background": "light"
     },
     "output_type": "display_data"
    }
   ],
   "source": [
    "confirmed_5cd_temp = np.array_split(confirmed, 395//5)\n",
    "confirmed_5cd = np.sum(confirmed_5cd_temp,axis=1)\n",
    "\n",
    "f, ax = plt.subplots(figsize=(18,5))\n",
    "ax.set_xticklabels(days[::5], rotation = 90)\n",
    "plt.xlabel(f'Time span: from {time_range[-1]} to {time_range[0]}')\n",
    "plt.ylabel(f'Number of confirmed cases')\n",
    "plt.bar(days[::5], confirmed_5cd, color='orange')"
   ]
  },
  {
   "cell_type": "markdown",
   "id": "ea9e9689",
   "metadata": {},
   "source": [
    "A very important thing to be noticed is some kind of correspondence between the curves of both graphs. We can not imply that when we have high numbers of confirmed cases alones we will have a considerable number of deaths, or even that we are going to see any death at all. However, considering the events of the pandemic in Manaus, deaths and confirmed cases are strongly co-related. This can be derived not only by the graph, but also by the fact that COVID-19 is a highly infectious disease. It is possible to easily find several reports of people who got sick, developed symptoms and died, all in a short period of time. Nevertheless, even that could explain the co-relation of the spikes in both graphs, we can not forget how brazilian government played its role during the pandemic¹ (by federal and state representations). Corruption², vaccine line-cutting³ and much more.\n",
    "\n",
    "¹https://bylinetimes.com/2020/06/10/the-coronavirus-crisis-corruption-negligence-and-harassment-in-brazil/ <br>\n",
    "²https://www.wilsoncenter.org/event/update-manaus-covid-19-and-ongoing-public-health-crisis-amazon <br>\n",
    "³https://brazilian.report/liveblog/coronavirus/2021/01/28/vaccine-line-cutting-scandals-challenge-latin-american-authorities/"
   ]
  },
  {
   "cell_type": "markdown",
   "id": "f818db0d",
   "metadata": {},
   "source": [
    "Can we mix both graphs to visualize better how deaths and confirmed cases are related? Let's plot both data together."
   ]
  },
  {
   "cell_type": "code",
   "execution_count": 24,
   "id": "a4b793c9",
   "metadata": {
    "scrolled": false
   },
   "outputs": [
    {
     "data": {
      "text/plain": [
       "<AxesSubplot:>"
      ]
     },
     "execution_count": 24,
     "metadata": {},
     "output_type": "execute_result"
    },
    {
     "data": {
      "image/png": "[encoded data removed]",
      "text/plain": [
       "<Figure size 1296x360 with 1 Axes>"
      ]
     },
     "metadata": {
      "needs_background": "light"
     },
     "output_type": "display_data"
    }
   ],
   "source": [
    "plotdata = pd.DataFrame({\n",
    "    \"deaths\": deaths_5cd,\n",
    "    \"confirmed\": confirmed_5cd\n",
    "    },\n",
    "    index = days[::5])\n",
    "\n",
    "plotdata.plot(kind=\"bar\", figsize=(18, 5), color=['r', 'orange'])"
   ]
  },
  {
   "cell_type": "markdown",
   "id": "418626cf",
   "metadata": {},
   "source": [
    "Well... something is wrong. We indeed plotted our both graphs together, but we can barely see the deaths because of the range of the data. We have much more confirmed cases than deaths. When plotted together we lost the possibility to study the relation between the graphs. Let's fix that by normalizating each array, so we can have both arrays in a range of between 0 and 1."
   ]
  },
  {
   "cell_type": "code",
   "execution_count": 25,
   "id": "119523d5",
   "metadata": {
    "scrolled": false
   },
   "outputs": [
    {
     "data": {
      "text/plain": [
       "<AxesSubplot:>"
      ]
     },
     "execution_count": 25,
     "metadata": {},
     "output_type": "execute_result"
    },
    {
     "data": {
      "image/png": "[encoded data removed]",
      "text/plain": [
       "<Figure size 1296x360 with 1 Axes>"
      ]
     },
     "metadata": {
      "needs_background": "light"
     },
     "output_type": "display_data"
    }
   ],
   "source": [
    "plotdata = pd.DataFrame({\n",
    "    \"deaths\": (deaths_5cd - np.min(deaths_5cd)) / (np.max(deaths_5cd) - np.min(deaths_5cd)),\n",
    "    \"confirmed\": (confirmed_5cd - np.min(confirmed_5cd)) / (np.max(confirmed_5cd) - np.min(confirmed_5cd)),\n",
    "    },\n",
    "    index = days[::5])\n",
    "\n",
    "plotdata.plot(kind=\"bar\", figsize=(18, 5), color=['r', 'orange'])"
   ]
  },
  {
   "cell_type": "markdown",
   "id": "266025e1",
   "metadata": {},
   "source": [
    "Much better! \n",
    "\n",
    "Now we can see how some kind of behaviour of the population is imprinted on the the numbers. In most occurrences we can see how both graphs exhibit equal behaviors."
   ]
  },
  {
   "cell_type": "markdown",
   "id": "02e907af",
   "metadata": {},
   "source": [
    "Let's try to find also some other factor, for example: what are the most though days? 'Though', for us, will mean days that we had a high number of deaths and confirmed cases when considered the day before. As we are grouping 5 days in a row, we are going to compare chunks in a row. We also are going to consider a 'high' difference between days whe we had more than a 20% increase between chunks, because If we don't consider that we may have multiple occurrencies, especially in the beginning of the pandemic. For example, without the care of the 20% consideration we may have days where the increase is beyond 200% due to previous days having zero or very small events: 2 -> 9 (increase of 350%)."
   ]
  },
  {
   "cell_type": "code",
   "execution_count": 26,
   "id": "dc0d6f7f",
   "metadata": {},
   "outputs": [],
   "source": [
    "tough_daysi = []\n",
    "deaths_pctg = []\n",
    "for i, (deaths_temp, days_temp) in enumerate(zip(deaths_5cd, days[::5])):\n",
    "    if i > 0 and deaths_5cd[i-1] > 0:\n",
    "        diff = (deaths_temp - deaths_5cd[i-1])\n",
    "        qtt = diff / (deaths_5cd[i-1])\n",
    "        if qtt > 0.2 and diff > 15:\n",
    "            tough_daysi.append(days_temp)\n",
    "            deaths_pctg.append(deaths_temp)\n",
    "            \n",
    "tough_daysii = []\n",
    "confirmed_pctg = []\n",
    "for i, (confirmed_temp, days_temp) in enumerate(zip(confirmed_5cd, days[::5])):\n",
    "    if i > 0 and confirmed_5cd[i-1] > 0:\n",
    "        diff = (confirmed_temp - confirmed_5cd[i-1])\n",
    "        qtt = diff / (confirmed_5cd[i-1])\n",
    "        if qtt > 0.2 and diff > 15:\n",
    "            tough_daysii.append(days_temp)\n",
    "            confirmed_pctg.append(confirmed_temp)"
   ]
  },
  {
   "cell_type": "code",
   "execution_count": 27,
   "id": "3d0b86bd",
   "metadata": {},
   "outputs": [
    {
     "data": {
      "text/plain": [
       "<AxesSubplot:>"
      ]
     },
     "execution_count": 27,
     "metadata": {},
     "output_type": "execute_result"
    },
    {
     "data": {
      "image/png": "[encoded data removed]",
      "text/plain": [
       "<Figure size 1296x360 with 1 Axes>"
      ]
     },
     "metadata": {
      "needs_background": "light"
     },
     "output_type": "display_data"
    }
   ],
   "source": [
    "plotdata = pd.DataFrame({\n",
    "    \"deaths\": deaths_pctg,\n",
    "    },\n",
    "    index = tough_daysi)\n",
    "\n",
    "plotdata.plot(kind=\"bar\", figsize=(18, 5), color='r')"
   ]
  },
  {
   "cell_type": "code",
   "execution_count": 28,
   "id": "0d67702b",
   "metadata": {},
   "outputs": [
    {
     "data": {
      "text/plain": [
       "<AxesSubplot:>"
      ]
     },
     "execution_count": 28,
     "metadata": {},
     "output_type": "execute_result"
    },
    {
     "data": {
      "image/png": "[encoded data removed]",
      "text/plain": [
       "<Figure size 1296x360 with 1 Axes>"
      ]
     },
     "metadata": {
      "needs_background": "light"
     },
     "output_type": "display_data"
    }
   ],
   "source": [
    "plotdata = pd.DataFrame({\n",
    "    \"confirmed cases\": confirmed_pctg,\n",
    "    },\n",
    "    index = tough_daysii)\n",
    "\n",
    "plotdata.plot(kind=\"bar\", figsize=(18, 5), color='orange')"
   ]
  },
  {
   "cell_type": "markdown",
   "id": "ca47ab35",
   "metadata": {},
   "source": [
    "Some days matched in both graphs. With more 'outside' information we can even think in others theoris to explain each event. But I want to point out two incidents: January 7 (2021) and January 12 (2021). Those days are present not only in both days, but also in the period of the second wave with significant visual appearance: they are among the highest spikes. That leads to a very important fact that:*in the first few weeks of 2021, we had more deaths due COVID-19 than from the entire year of 2020 alone*¹. So we ask: when was the day that, in 2021, Manaus exceeded the number of deaths by COVID-19 in 2020?\n",
    "\n",
    "¹(only in portuguese, PT-BR) https://g1.globo.com/am/amazonas/noticia/2021/03/03/em-dois-meses-de-2021-manaus-tem-mil-mortes-a-mais-do-que-em-2020.ghtml"
   ]
  },
  {
   "cell_type": "code",
   "execution_count": 29,
   "id": "8552763b",
   "metadata": {},
   "outputs": [],
   "source": [
    "year_2020 = [True  if ('2020' in x) else False for indice, x in enumerate(days_arr)]\n",
    "year_2021 = [True  if ('2021' in x) else False for indice, x in enumerate(days_arr)]"
   ]
  },
  {
   "cell_type": "code",
   "execution_count": 30,
   "id": "296d6861",
   "metadata": {},
   "outputs": [
    {
     "name": "stdout",
     "output_type": "stream",
     "text": [
      "Total deaths in 2020: 3380.\n",
      "Total deaths in 2021: 5232.\n"
     ]
    }
   ],
   "source": [
    "print(f'Total deaths in 2020: {np.sum(deaths[year_2020])}.')\n",
    "print(f'Total deaths in 2021: {np.sum(deaths[year_2021])}.')"
   ]
  },
  {
   "cell_type": "code",
   "execution_count": 31,
   "id": "9e6f2ab8",
   "metadata": {},
   "outputs": [
    {
     "name": "stdout",
     "output_type": "stream",
     "text": [
      "The day we hit the mark of deaths in 2020 was February 11.\n",
      "Total deaths by that day: 3384.\n"
     ]
    }
   ],
   "source": [
    "tough_2020 = np.sum(deaths[year_2020])\n",
    "months = {'January': 1, 'February': 2, 'March': 3, 'April': 4}\n",
    "count_deaths = 0\n",
    "for indice, (day, count_d) in enumerate(zip(days_arr, deaths)):\n",
    "    if '2021' in day:\n",
    "        count_deaths = count_deaths + count_d\n",
    "        if count_deaths >= tough_2020:\n",
    "            y, m, d = day.split('-')\n",
    "            month = [x for x in months.keys() if months[x] == int(m)]\n",
    "            print(f'The day we hit the mark of deaths in 2020 was {month[0]} {d}.')\n",
    "            print(f'Total deaths by that day: {count_deaths}.')\n",
    "            break"
   ]
  },
  {
   "cell_type": "markdown",
   "id": "a15fe445",
   "metadata": {},
   "source": [
    " ### Future Works"
   ]
  },
  {
   "cell_type": "markdown",
   "id": "03515f93",
   "metadata": {},
   "source": [
    "Thank you for staying with me until here. As future works we can think about new new ways of mixing the data. We did not even look to others cities in Amazonas, or tried any Machine Learning approach to try to predict new waves of COVID-19 of Manaus. For sure, would be very interisting to see how our data can be related with data from around the world."
   ]
  },
  {
   "cell_type": "markdown",
   "id": "84756cd1",
   "metadata": {},
   "source": [
    "### End"
   ]
  },
  {
   "cell_type": "markdown",
   "id": "de629954",
   "metadata": {},
   "source": [
    "I hope you are ok.\n",
    "\n",
    "Stay safe.\n",
    "\n",
    "Lucas.\n",
    "\n",
    "You can reach me at lucasgabrielce [at] gmail dot com."
   ]
  }
 ],
 "metadata": {
  "kernelspec": {
   "display_name": "Python 3",
   "language": "python",
   "name": "python3"
  },
  "language_info": {
   "codemirror_mode": {
    "name": "ipython",
    "version": 3
   },
   "file_extension": ".py",
   "mimetype": "text/x-python",
   "name": "python",
   "nbconvert_exporter": "python",
   "pygments_lexer": "ipython3",
   "version": "3.9.1"
  }
 },
 "nbformat": 4,
 "nbformat_minor": 5
}
